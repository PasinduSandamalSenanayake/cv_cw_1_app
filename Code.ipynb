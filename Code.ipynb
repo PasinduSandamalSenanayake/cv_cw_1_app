{
 "cells": [
  {
   "cell_type": "code",
   "execution_count": 1,
   "id": "9846fb56-5164-4b90-b767-2d9ba14c4b18",
   "metadata": {},
   "outputs": [],
   "source": [
    "import matplotlib.pyplot as plt\n",
    "from tensorflow.keras.applications import MobileNetV2\n",
    "from tensorflow.keras.models import Sequential\n",
    "from tensorflow.keras.layers import Dense, Flatten, Dropout\n",
    "import numpy as np\n",
    "import os\n",
    "import shutil\n",
    "from sklearn.model_selection import train_test_split"
   ]
  },
  {
   "cell_type": "code",
   "execution_count": 2,
   "id": "b41a8cf4-e0d0-4c4c-a818-ab95c02ceffa",
   "metadata": {},
   "outputs": [],
   "source": [
    "dataset_path = 'data'  \n",
    "output_dir = 'organized_dataset'"
   ]
  },
  {
   "cell_type": "code",
   "execution_count": 3,
   "id": "ae6403bf-c0ca-4b2d-aa67-cfac8283807a",
   "metadata": {},
   "outputs": [],
   "source": [
    "\n",
    "for split in ['train', 'validate', 'test']:\n",
    "    for class_name in ['metal', 'organic', 'plastic']:\n",
    "        os.makedirs(os.path.join(output_dir, split, class_name), exist_ok=True)\n",
    "\n",
    "images = []\n",
    "labels = []"
   ]
  },
  {
   "cell_type": "code",
   "execution_count": 4,
   "id": "e831d9b7-b138-42b8-ae65-f5aec158fde5",
   "metadata": {},
   "outputs": [
    {
     "name": "stdout",
     "output_type": "stream",
     "text": [
      "Total images found: 2309\n"
     ]
    }
   ],
   "source": [
    "\n",
    "for class_name in ['metal', 'organic', 'plastic']:\n",
    "    class_dir = os.path.join(dataset_path, class_name)\n",
    "    if not os.path.exists(class_dir):\n",
    "        print(f\"Warning: Directory for class '{class_name}' not found. Skipping...\")\n",
    "        continue\n",
    "\n",
    "    for img in os.listdir(class_dir):\n",
    "        img_path = os.path.join(class_dir, img)\n",
    "        if os.path.isfile(img_path):\n",
    "            images.append(img_path)\n",
    "            labels.append(class_name)\n",
    "\n",
    "print(f\"Total images found: {len(images)}\")\n",
    "\n",
    "if len(images) == 0:\n",
    "    raise ValueError(\"No images found in the dataset. Please check the dataset structure.\")\n"
   ]
  },
  {
   "cell_type": "code",
   "execution_count": 5,
   "id": "b04516d5-fec9-48ef-a25f-a1c98dad3bf6",
   "metadata": {},
   "outputs": [],
   "source": [
    "\n",
    "train_images, temp_images, train_labels, temp_labels = train_test_split(\n",
    "    images, labels, test_size=0.3, stratify=labels, random_state=42\n",
    ")\n",
    "val_images, test_images, val_labels, test_labels = train_test_split(\n",
    "    temp_images, temp_labels, test_size=0.5, stratify=temp_labels, random_state=42\n",
    ")"
   ]
  },
  {
   "cell_type": "code",
   "execution_count": 6,
   "id": "3b459201-2539-46c2-905d-94d14b6f3960",
   "metadata": {},
   "outputs": [
    {
     "name": "stdout",
     "output_type": "stream",
     "text": [
      "✅ Data has been organized successfully.\n",
      "Train set: 1616 images\n",
      "Validation set: 346 images\n",
      "Test set: 347 images\n"
     ]
    }
   ],
   "source": [
    "\n",
    "def move_images(image_list, labels_list, split):\n",
    "    for img, label in zip(image_list, labels_list):\n",
    "        dest_dir = os.path.join(output_dir, split, label)\n",
    "        shutil.copy(img, dest_dir)\n",
    "\n",
    "move_images(train_images, train_labels, 'train')\n",
    "move_images(val_images, val_labels, 'validation')\n",
    "move_images(test_images, test_labels, 'test')\n",
    "\n",
    "print(\"✅ Data has been organized successfully.\")\n",
    "print(f\"Train set: {len(train_images)} images\")\n",
    "print(f\"Validation set: {len(val_images)} images\")\n",
    "print(f\"Test set: {len(test_images)} images\")"
   ]
  },
  {
   "cell_type": "code",
   "execution_count": 7,
   "id": "dabddf3b-e149-4009-a0c1-b0662da3f759",
   "metadata": {},
   "outputs": [
    {
     "name": "stdout",
     "output_type": "stream",
     "text": [
      "✅ Augmented images saved successfully!\n"
     ]
    }
   ],
   "source": [
    "\n",
    "from tensorflow.keras.preprocessing.image import ImageDataGenerator, load_img, img_to_array\n",
    "import numpy as np\n",
    "import os\n",
    "\n",
    "augmenter = ImageDataGenerator(\n",
    "    rotation_range=40,\n",
    "    width_shift_range=0.3,\n",
    "    height_shift_range=0.3,\n",
    "    shear_range=0.3,\n",
    "    zoom_range=0.3,\n",
    "    horizontal_flip=True,\n",
    "    vertical_flip=True,\n",
    "    brightness_range=[0.7, 1.3],\n",
    "    fill_mode='nearest'\n",
    ")\n",
    "\n",
    "dataset_dir = 'organized_dataset/train/'\n",
    "augmented_dir = '/augmented_dataset/train/'\n",
    "\n",
    "os.makedirs(augmented_dir, exist_ok=True)\n",
    "\n",
    "for class_name in os.listdir(dataset_dir):\n",
    "    class_path = os.path.join(dataset_dir, class_name)\n",
    "    augmented_class_path = os.path.join(augmented_dir, class_name)\n",
    "    os.makedirs(augmented_class_path, exist_ok=True)\n",
    "\n",
    "    for img_name in os.listdir(class_path):\n",
    "        img_path = os.path.join(class_path, img_name)\n",
    "\n",
    "        # Load the image\n",
    "        img = load_img(img_path, target_size=(150, 150))\n",
    "        img_array = img_to_array(img)\n",
    "        img_array = np.expand_dims(img_array, axis=0)\n",
    "\n",
    "        # Generate new images\n",
    "        i = 0\n",
    "        for batch in augmenter.flow(img_array, batch_size=1, save_to_dir=augmented_class_path,\n",
    "                                    save_prefix='aug', save_format='jpg'):\n",
    "            i += 1\n",
    "            if i >= 5:\n",
    "                break\n",
    "\n",
    "print(\"✅ Augmented images saved successfully!\")"
   ]
  },
  {
   "cell_type": "code",
   "execution_count": 8,
   "id": "25fe0385-b680-4586-8260-24f2a6527866",
   "metadata": {},
   "outputs": [
    {
     "name": "stdout",
     "output_type": "stream",
     "text": [
      "Found 1616 images belonging to 3 classes.\n",
      "Found 346 images belonging to 3 classes.\n",
      "Found 347 images belonging to 3 classes.\n"
     ]
    }
   ],
   "source": [
    "\n",
    "\n",
    "from tensorflow.keras.preprocessing.image import ImageDataGenerator\n",
    "\n",
    "\n",
    "train_dir = 'organized_dataset/train'\n",
    "validation_dir = os.path.join(output_dir, 'validation')\n",
    "\n",
    "train_datagen = ImageDataGenerator(\n",
    "    rescale=1.0/255,\n",
    "    rotation_range=40,\n",
    "    width_shift_range=0.3,\n",
    "    height_shift_range=0.3,\n",
    "    shear_range=0.3,\n",
    "    zoom_range=0.3,\n",
    "    horizontal_flip=True,\n",
    "    vertical_flip=True,\n",
    "    brightness_range=[0.7, 1.3],\n",
    "    fill_mode='nearest'\n",
    ")\n",
    "\n",
    "\n",
    "validation_datagen = ImageDataGenerator(rescale=1.0/255)\n",
    "\n",
    "train_generator = train_datagen.flow_from_directory(\n",
    "    train_dir,\n",
    "    target_size=(96, 96),\n",
    "    batch_size=32,\n",
    "    class_mode='categorical'\n",
    ")\n",
    "\n",
    "validation_generator = validation_datagen.flow_from_directory(\n",
    "    validation_dir,\n",
    "    target_size=(96, 96),\n",
    "    batch_size=32,\n",
    "    class_mode='categorical'\n",
    ")\n",
    "\n",
    "\n",
    "\n",
    "test_dir = os.path.join(output_dir, 'test')\n",
    "test_datagen = ImageDataGenerator(rescale=1.0/255)\n",
    "test_generator = test_datagen.flow_from_directory(\n",
    "    test_dir,\n",
    "    target_size=(96, 96),\n",
    "    batch_size=32,\n",
    "    class_mode='categorical',\n",
    "    shuffle=False\n",
    ")"
   ]
  },
  {
   "cell_type": "code",
   "execution_count": 9,
   "id": "a699d014-d11c-4aaf-99a7-2e45a1ffba3f",
   "metadata": {},
   "outputs": [],
   "source": [
    "from tensorflow.keras.optimizers import Adam\n",
    "from tensorflow.keras.regularizers import l2\n",
    "\n",
    "base_model = MobileNetV2(input_shape=(96, 96, 3), include_top=False, weights='imagenet')\n",
    "for layer in base_model.layers[-20:]:\n",
    "    layer.trainable = True\n",
    "\n",
    "\n",
    "\n",
    "model = Sequential([\n",
    "    base_model,\n",
    "    Flatten(),\n",
    "    Dense(256, activation='relu', kernel_regularizer=l2(0.01)),\n",
    "    Dropout(0.5),\n",
    "    Dense(128, activation='relu', kernel_regularizer=l2(0.01)),\n",
    "    Dropout(0.5),\n",
    "    Dense(3, activation='softmax')\n",
    "])\n",
    "\n",
    "optimizer = Adam(learning_rate=0.00005)\n",
    "model.compile(optimizer=optimizer, loss='categorical_crossentropy', metrics=['accuracy'])"
   ]
  },
  {
   "cell_type": "code",
   "execution_count": 10,
   "id": "bfa0d3cd-7185-4d46-86e3-30aca46f7488",
   "metadata": {},
   "outputs": [
    {
     "name": "stderr",
     "output_type": "stream",
     "text": [
      "C:\\Users\\Sandamal\\.conda\\envs\\general_project\\lib\\site-packages\\keras\\src\\trainers\\data_adapters\\py_dataset_adapter.py:121: UserWarning: Your `PyDataset` class should call `super().__init__(**kwargs)` in its constructor. `**kwargs` can include `workers`, `use_multiprocessing`, `max_queue_size`. Do not pass these arguments to `fit()`, as they will be ignored.\n",
      "  self._warn_if_super_not_called()\n"
     ]
    },
    {
     "name": "stdout",
     "output_type": "stream",
     "text": [
      "Epoch 1/20\n",
      "\u001b[1m51/51\u001b[0m \u001b[32m━━━━━━━━━━━━━━━━━━━━\u001b[0m\u001b[37m\u001b[0m \u001b[1m52s\u001b[0m 544ms/step - accuracy: 0.3994 - loss: 8.4426 - val_accuracy: 0.7254 - val_loss: 7.3285\n",
      "Epoch 2/20\n",
      "\u001b[1m51/51\u001b[0m \u001b[32m━━━━━━━━━━━━━━━━━━━━\u001b[0m\u001b[37m\u001b[0m \u001b[1m24s\u001b[0m 475ms/step - accuracy: 0.5505 - loss: 7.6799 - val_accuracy: 0.8208 - val_loss: 7.0718\n",
      "Epoch 3/20\n",
      "\u001b[1m51/51\u001b[0m \u001b[32m━━━━━━━━━━━━━━━━━━━━\u001b[0m\u001b[37m\u001b[0m \u001b[1m25s\u001b[0m 495ms/step - accuracy: 0.6647 - loss: 7.4068 - val_accuracy: 0.8439 - val_loss: 6.9189\n",
      "Epoch 4/20\n",
      "\u001b[1m51/51\u001b[0m \u001b[32m━━━━━━━━━━━━━━━━━━━━\u001b[0m\u001b[37m\u001b[0m \u001b[1m25s\u001b[0m 486ms/step - accuracy: 0.7092 - loss: 7.1909 - val_accuracy: 0.8757 - val_loss: 6.7815\n",
      "Epoch 5/20\n",
      "\u001b[1m51/51\u001b[0m \u001b[32m━━━━━━━━━━━━━━━━━━━━\u001b[0m\u001b[37m\u001b[0m \u001b[1m25s\u001b[0m 482ms/step - accuracy: 0.7240 - loss: 7.1053 - val_accuracy: 0.8786 - val_loss: 6.6746\n",
      "Epoch 6/20\n",
      "\u001b[1m51/51\u001b[0m \u001b[32m━━━━━━━━━━━━━━━━━━━━\u001b[0m\u001b[37m\u001b[0m \u001b[1m25s\u001b[0m 479ms/step - accuracy: 0.7662 - loss: 6.8800 - val_accuracy: 0.8873 - val_loss: 6.5839\n",
      "Epoch 7/20\n",
      "\u001b[1m51/51\u001b[0m \u001b[32m━━━━━━━━━━━━━━━━━━━━\u001b[0m\u001b[37m\u001b[0m \u001b[1m25s\u001b[0m 481ms/step - accuracy: 0.7919 - loss: 6.8103 - val_accuracy: 0.9162 - val_loss: 6.4859\n",
      "Epoch 8/20\n",
      "\u001b[1m51/51\u001b[0m \u001b[32m━━━━━━━━━━━━━━━━━━━━\u001b[0m\u001b[37m\u001b[0m \u001b[1m24s\u001b[0m 478ms/step - accuracy: 0.8084 - loss: 6.6818 - val_accuracy: 0.9162 - val_loss: 6.4049\n",
      "Epoch 9/20\n",
      "\u001b[1m51/51\u001b[0m \u001b[32m━━━━━━━━━━━━━━━━━━━━\u001b[0m\u001b[37m\u001b[0m \u001b[1m24s\u001b[0m 476ms/step - accuracy: 0.8240 - loss: 6.5704 - val_accuracy: 0.9249 - val_loss: 6.3073\n",
      "Epoch 10/20\n",
      "\u001b[1m51/51\u001b[0m \u001b[32m━━━━━━━━━━━━━━━━━━━━\u001b[0m\u001b[37m\u001b[0m \u001b[1m24s\u001b[0m 470ms/step - accuracy: 0.8479 - loss: 6.4715 - val_accuracy: 0.9306 - val_loss: 6.2166\n",
      "Epoch 11/20\n",
      "\u001b[1m51/51\u001b[0m \u001b[32m━━━━━━━━━━━━━━━━━━━━\u001b[0m\u001b[37m\u001b[0m \u001b[1m24s\u001b[0m 475ms/step - accuracy: 0.8823 - loss: 6.2673 - val_accuracy: 0.9335 - val_loss: 6.1292\n",
      "Epoch 12/20\n",
      "\u001b[1m51/51\u001b[0m \u001b[32m━━━━━━━━━━━━━━━━━━━━\u001b[0m\u001b[37m\u001b[0m \u001b[1m25s\u001b[0m 487ms/step - accuracy: 0.8647 - loss: 6.2273 - val_accuracy: 0.9277 - val_loss: 6.0348\n",
      "Epoch 13/20\n",
      "\u001b[1m51/51\u001b[0m \u001b[32m━━━━━━━━━━━━━━━━━━━━\u001b[0m\u001b[37m\u001b[0m \u001b[1m24s\u001b[0m 478ms/step - accuracy: 0.8784 - loss: 6.1297 - val_accuracy: 0.9335 - val_loss: 5.9383\n",
      "Epoch 14/20\n",
      "\u001b[1m51/51\u001b[0m \u001b[32m━━━━━━━━━━━━━━━━━━━━\u001b[0m\u001b[37m\u001b[0m \u001b[1m28s\u001b[0m 558ms/step - accuracy: 0.8896 - loss: 6.0174 - val_accuracy: 0.9509 - val_loss: 5.8357\n",
      "Epoch 15/20\n",
      "\u001b[1m51/51\u001b[0m \u001b[32m━━━━━━━━━━━━━━━━━━━━\u001b[0m\u001b[37m\u001b[0m \u001b[1m27s\u001b[0m 518ms/step - accuracy: 0.8908 - loss: 5.9178 - val_accuracy: 0.9451 - val_loss: 5.7348\n",
      "Epoch 16/20\n",
      "\u001b[1m51/51\u001b[0m \u001b[32m━━━━━━━━━━━━━━━━━━━━\u001b[0m\u001b[37m\u001b[0m \u001b[1m25s\u001b[0m 488ms/step - accuracy: 0.8813 - loss: 5.8528 - val_accuracy: 0.9249 - val_loss: 5.6686\n",
      "Epoch 17/20\n",
      "\u001b[1m51/51\u001b[0m \u001b[32m━━━━━━━━━━━━━━━━━━━━\u001b[0m\u001b[37m\u001b[0m \u001b[1m26s\u001b[0m 507ms/step - accuracy: 0.8973 - loss: 5.7241 - val_accuracy: 0.9451 - val_loss: 5.5587\n",
      "Epoch 18/20\n",
      "\u001b[1m51/51\u001b[0m \u001b[32m━━━━━━━━━━━━━━━━━━━━\u001b[0m\u001b[37m\u001b[0m \u001b[1m25s\u001b[0m 486ms/step - accuracy: 0.9109 - loss: 5.5813 - val_accuracy: 0.9566 - val_loss: 5.4629\n",
      "Epoch 19/20\n",
      "\u001b[1m51/51\u001b[0m \u001b[32m━━━━━━━━━━━━━━━━━━━━\u001b[0m\u001b[37m\u001b[0m \u001b[1m25s\u001b[0m 486ms/step - accuracy: 0.9092 - loss: 5.5277 - val_accuracy: 0.9335 - val_loss: 5.3765\n",
      "Epoch 20/20\n",
      "\u001b[1m51/51\u001b[0m \u001b[32m━━━━━━━━━━━━━━━━━━━━\u001b[0m\u001b[37m\u001b[0m \u001b[1m24s\u001b[0m 479ms/step - accuracy: 0.9013 - loss: 5.4058 - val_accuracy: 0.9335 - val_loss: 5.2939\n"
     ]
    }
   ],
   "source": [
    "\n",
    "from tensorflow.keras.callbacks import EarlyStopping\n",
    "\n",
    "early_stopping = EarlyStopping(monitor='val_loss', patience=5, restore_best_weights=True)\n",
    "\n",
    "history = model.fit(\n",
    "    train_generator,\n",
    "    epochs=20,\n",
    "    validation_data=validation_generator,\n",
    "    callbacks=[early_stopping]\n",
    ")"
   ]
  },
  {
   "cell_type": "code",
   "execution_count": 11,
   "id": "960a5fac-d6f1-4ee5-a1ce-20524f61aa18",
   "metadata": {},
   "outputs": [
    {
     "data": {
      "text/plain": [
       "<matplotlib.legend.Legend at 0x1ba6d4bdf00>"
      ]
     },
     "execution_count": 11,
     "metadata": {},
     "output_type": "execute_result"
    },
    {
     "data": {
      "image/png": "[encoded data removed]",
      "text/plain": [
       "<Figure size 640x480 with 1 Axes>"
      ]
     },
     "metadata": {},
     "output_type": "display_data"
    }
   ],
   "source": [
    "plt.subplot(1, 2, 1)\n",
    "plt.plot(history.history['accuracy'], label='Training Accuracy')\n",
    "plt.plot(history.history['val_accuracy'], label='Validation Accuracy')\n",
    "plt.title('Accuracy over Epochs')\n",
    "plt.xlabel('Epochs')\n",
    "plt.ylabel('Accuracy')\n",
    "plt.legend()"
   ]
  },
  {
   "cell_type": "code",
   "execution_count": 12,
   "id": "c98aac3b-72a6-4b40-a946-54e94b5748a7",
   "metadata": {},
   "outputs": [
    {
     "data": {
      "text/plain": [
       "<matplotlib.legend.Legend at 0x1ba6d506c20>"
      ]
     },
     "execution_count": 12,
     "metadata": {},
     "output_type": "execute_result"
    },
    {
     "data": {
      "image/png": "[encoded data removed]",
      "text/plain": [
       "<Figure size 640x480 with 1 Axes>"
      ]
     },
     "metadata": {},
     "output_type": "display_data"
    }
   ],
   "source": [
    "plt.subplot(1, 2, 1)\n",
    "plt.plot(history.history['loss'], label='Training loss')\n",
    "plt.plot(history.history['val_loss'], label='Validation val_loss')\n",
    "plt.title('Accuracy over Epochs')\n",
    "plt.xlabel('Epochs')\n",
    "plt.ylabel('Accuracy')\n",
    "plt.legend()"
   ]
  },
  {
   "cell_type": "code",
   "execution_count": 13,
   "id": "70b7bcda-dfff-4502-8fc8-a46fb36c0749",
   "metadata": {},
   "outputs": [
    {
     "name": "stdout",
     "output_type": "stream",
     "text": [
      "\u001b[1m11/11\u001b[0m \u001b[32m━━━━━━━━━━━━━━━━━━━━\u001b[0m\u001b[37m\u001b[0m \u001b[1m3s\u001b[0m 300ms/step - accuracy: 0.9633 - loss: 5.2146\n",
      "Test Accuracy: 95.68%\n"
     ]
    }
   ],
   "source": [
    "test_loss, test_accuracy = model.evaluate(test_generator)\n",
    "print(f\"Test Accuracy: {test_accuracy * 100:.2f}%\")"
   ]
  },
  {
   "cell_type": "code",
   "execution_count": 14,
   "id": "bff4a998-69cb-4158-a940-dc7c3a546c49",
   "metadata": {},
   "outputs": [
    {
     "name": "stdout",
     "output_type": "stream",
     "text": [
      "Final Training Accuracy: 90.35%\n",
      "Final Validation Accuracy: 93.35%\n",
      "✅ The model is NOT overfitting.\n"
     ]
    }
   ],
   "source": [
    "train_acc = history.history['accuracy'][-1]\n",
    "val_acc = history.history['val_accuracy'][-1]\n",
    "\n",
    "print(f\"Final Training Accuracy: {train_acc * 100:.2f}%\")\n",
    "print(f\"Final Validation Accuracy: {val_acc * 100:.2f}%\")\n",
    "\n",
    "threshold = 0.10\n",
    "\n",
    "if train_acc - val_acc > threshold:\n",
    "    print(\"⚠️ The model is OVERFITTING! Consider applying regularization techniques.\")\n",
    "else:\n",
    "    print(\"✅ The model is NOT overfitting.\")"
   ]
  },
  {
   "cell_type": "code",
   "execution_count": 15,
   "id": "5e059ad1-8535-4087-8077-2ee61f659a9f",
   "metadata": {},
   "outputs": [
    {
     "name": "stdout",
     "output_type": "stream",
     "text": [
      "\u001b[1m11/11\u001b[0m \u001b[32m━━━━━━━━━━━━━━━━━━━━\u001b[0m\u001b[37m\u001b[0m \u001b[1m3s\u001b[0m 205ms/step\n"
     ]
    },
    {
     "data": {
      "image/png": "[encoded data removed]",
      "text/plain": [
       "<Figure size 640x480 with 2 Axes>"
      ]
     },
     "metadata": {},
     "output_type": "display_data"
    },
    {
     "name": "stdout",
     "output_type": "stream",
     "text": [
      "              precision    recall  f1-score   support\n",
      "\n",
      "       metal       0.92      0.97      0.94       115\n",
      "     organic       0.98      0.99      0.99       116\n",
      "     plastic       0.97      0.91      0.94       116\n",
      "\n",
      "    accuracy                           0.96       347\n",
      "   macro avg       0.96      0.96      0.96       347\n",
      "weighted avg       0.96      0.96      0.96       347\n",
      "\n"
     ]
    }
   ],
   "source": [
    "import seaborn as sns\n",
    "from sklearn.metrics import confusion_matrix, classification_report\n",
    "\n",
    "y_true = test_generator.classes\n",
    "y_pred = np.argmax(model.predict(test_generator), axis=1)\n",
    "\n",
    "conf_matrix = confusion_matrix(y_true, y_pred)\n",
    "sns.heatmap(conf_matrix, annot=True, fmt='d', cmap='Blues',\n",
    "            xticklabels=list(test_generator.class_indices.keys()),\n",
    "            yticklabels=list(test_generator.class_indices.keys()))\n",
    "plt.xlabel('Predicted')\n",
    "plt.ylabel('True')\n",
    "plt.title('Confusion Matrix')\n",
    "plt.show()\n",
    "\n",
    "print(classification_report(y_true, y_pred, target_names=list(test_generator.class_indices.keys())))"
   ]
  },
  {
   "cell_type": "code",
   "execution_count": 16,
   "id": "711fbb62-99ec-439c-a27a-6b459659d949",
   "metadata": {},
   "outputs": [
    {
     "name": "stderr",
     "output_type": "stream",
     "text": [
      "WARNING:absl:You are saving your model as an HDF5 file via `model.save()` or `keras.saving.save_model(model)`. This file format is considered legacy. We recommend using instead the native Keras format, e.g. `model.save('my_model.keras')` or `keras.saving.save_model(model, 'my_model.keras')`. \n"
     ]
    }
   ],
   "source": [
    "\n",
    "model.save(\"my_model.h5\")\n"
   ]
  },
  {
   "cell_type": "code",
   "execution_count": 18,
   "id": "d429a662-86ac-4994-b5df-21f46ab783ed",
   "metadata": {},
   "outputs": [
    {
     "name": "stderr",
     "output_type": "stream",
     "text": [
      "WARNING:absl:Compiled the loaded model, but the compiled metrics have yet to be built. `model.compile_metrics` will be empty until you train or evaluate the model.\n"
     ]
    },
    {
     "name": "stdout",
     "output_type": "stream",
     "text": [
      "Model loaded successfully!\n"
     ]
    }
   ],
   "source": [
    "from tensorflow.keras.models import load_model\n",
    "\n",
    "# Replace with your model filename\n",
    "model = load_model(\"my_model.h5\")\n",
    "print(\"Model loaded successfully!\")"
   ]
  },
  {
   "cell_type": "code",
   "execution_count": 29,
   "id": "8f0f11a2-5b27-489f-ae6c-5232b9726eac",
   "metadata": {},
   "outputs": [
    {
     "name": "stdout",
     "output_type": "stream",
     "text": [
      "\u001b[1m1/1\u001b[0m \u001b[32m━━━━━━━━━━━━━━━━━━━━\u001b[0m\u001b[37m\u001b[0m \u001b[1m0s\u001b[0m 78ms/step\n",
      "Predicted class: organic\n"
     ]
    }
   ],
   "source": [
    "from PIL import Image\n",
    "import numpy as np\n",
    "\n",
    "img_path = \"3.jpeg\"\n",
    "# Resize to 96x96 because the model expects that\n",
    "img = Image.open(img_path).resize((96, 96))\n",
    "img_array = np.array(img) / 255.0  # Normalize if needed\n",
    "img_array = np.expand_dims(img_array, axis=0)  # Add batch dimension\n",
    "pred = model.predict(img_array)\n",
    "class_names = ['plastic', 'organic', 'metal']  # Your classes\n",
    "predicted_class = class_names[np.argmax(pred)]\n",
    "print(\"Predicted class:\", predicted_class)\n"
   ]
  }
 ],
 "metadata": {
  "kernelspec": {
   "display_name": "Python 3 (ipykernel)",
   "language": "python",
   "name": "python3"
  },
  "language_info": {
   "codemirror_mode": {
    "name": "ipython",
    "version": 3
   },
   "file_extension": ".py",
   "mimetype": "text/x-python",
   "name": "python",
   "nbconvert_exporter": "python",
   "pygments_lexer": "ipython3",
   "version": "3.10.18"
  }
 },
 "nbformat": 4,
 "nbformat_minor": 5
}
